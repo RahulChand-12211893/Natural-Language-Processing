{
 "cells": [
  {
   "cell_type": "markdown",
   "id": "34bbe37d",
   "metadata": {},
   "source": [
    "### Tokenization\n",
    "- Tokenization is the process of breaking down text or data into smaller units called tokens.\n",
    "- We can use word_tokenize or sent_tokenize for the tokenization."
   ]
  },
  {
   "cell_type": "code",
   "execution_count": 1,
   "id": "99d1fb37",
   "metadata": {},
   "outputs": [
    {
     "name": "stdout",
     "output_type": "stream",
     "text": [
      "Requirement already satisfied: nltk in c:\\users\\rahul\\python\\lib\\site-packages (3.7)\n",
      "Requirement already satisfied: click in c:\\users\\rahul\\python\\lib\\site-packages (from nltk) (8.0.4)\n",
      "Requirement already satisfied: joblib in c:\\users\\rahul\\python\\lib\\site-packages (from nltk) (1.2.0)\n",
      "Requirement already satisfied: regex>=2021.8.3 in c:\\users\\rahul\\python\\lib\\site-packages (from nltk) (2022.7.9)\n",
      "Requirement already satisfied: tqdm in c:\\users\\rahul\\python\\lib\\site-packages (from nltk) (4.65.0)\n",
      "Requirement already satisfied: colorama in c:\\users\\rahul\\python\\lib\\site-packages (from click->nltk) (0.4.6)\n",
      "Note: you may need to restart the kernel to use updated packages.\n"
     ]
    }
   ],
   "source": [
    "pip install nltk"
   ]
  },
  {
   "cell_type": "code",
   "execution_count": 1,
   "id": "0672ef57",
   "metadata": {},
   "outputs": [],
   "source": [
    "import nltk\n",
    "from nltk.tokenize import word_tokenize"
   ]
  },
  {
   "cell_type": "code",
   "execution_count": 6,
   "id": "7065dc22",
   "metadata": {},
   "outputs": [
    {
     "name": "stderr",
     "output_type": "stream",
     "text": [
      "[nltk_data] Downloading package punkt_tab to\n",
      "[nltk_data]     C:\\Users\\rahul\\AppData\\Roaming\\nltk_data...\n",
      "[nltk_data]   Unzipping tokenizers\\punkt_tab.zip.\n"
     ]
    },
    {
     "data": {
      "text/plain": [
       "True"
      ]
     },
     "execution_count": 6,
     "metadata": {},
     "output_type": "execute_result"
    }
   ],
   "source": [
    "# Download NLTK data (if not already download)\n",
    "# Download the PUNKT tokenizer model:\n",
    "nltk.download('punkt_tab')\n",
    "# punkt_tab is a pre trained dataset available used by NLTK for tokenizing text"
   ]
  },
  {
   "cell_type": "code",
   "execution_count": 7,
   "id": "b86ee7ab",
   "metadata": {},
   "outputs": [],
   "source": [
    "# simple sentence \n",
    "sentence = \"Tokenization is an important step in natural language processing.\""
   ]
  },
  {
   "cell_type": "code",
   "execution_count": 8,
   "id": "55ec3fa1",
   "metadata": {},
   "outputs": [],
   "source": [
    "# Tokenize the sentence \n",
    "tokens = word_tokenize(sentence)"
   ]
  },
  {
   "cell_type": "code",
   "execution_count": 9,
   "id": "79dac739",
   "metadata": {},
   "outputs": [
    {
     "name": "stdout",
     "output_type": "stream",
     "text": [
      "['Tokenization', 'is', 'an', 'important', 'step', 'in', 'natural', 'language', 'processing', '.']\n"
     ]
    }
   ],
   "source": [
    "# Display the tokens\n",
    "print(tokens)"
   ]
  },
  {
   "cell_type": "code",
   "execution_count": null,
   "id": "71d99280",
   "metadata": {},
   "outputs": [],
   "source": []
  },
  {
   "cell_type": "markdown",
   "id": "a8fe3ed1",
   "metadata": {},
   "source": [
    "#### Stop words:- These are the words which are used to complete the meaning of a sentence.\n",
    "- ex (is, an, the, etc...)"
   ]
  },
  {
   "cell_type": "code",
   "execution_count": 10,
   "id": "f8d41603",
   "metadata": {},
   "outputs": [],
   "source": [
    "from nltk.tokenize import sent_tokenize"
   ]
  },
  {
   "cell_type": "code",
   "execution_count": 11,
   "id": "beefa86d",
   "metadata": {},
   "outputs": [
    {
     "name": "stderr",
     "output_type": "stream",
     "text": [
      "[nltk_data] Downloading package punkt_tab to\n",
      "[nltk_data]     C:\\Users\\rahul\\AppData\\Roaming\\nltk_data...\n",
      "[nltk_data]   Package punkt_tab is already up-to-date!\n"
     ]
    },
    {
     "data": {
      "text/plain": [
       "True"
      ]
     },
     "execution_count": 11,
     "metadata": {},
     "output_type": "execute_result"
    }
   ],
   "source": [
    "# Downloading the sentence tokenizer model\n",
    "nltk.download('punkt_tab')"
   ]
  },
  {
   "cell_type": "code",
   "execution_count": 12,
   "id": "976a84ae",
   "metadata": {},
   "outputs": [
    {
     "name": "stdout",
     "output_type": "stream",
     "text": [
      "['natural language procesing is facinating.', 'It helps computer undersatnding human language']\n"
     ]
    }
   ],
   "source": [
    "# Sample paragraph\n",
    "paragraph = \"natural language procesing is facinating. It helps computer undersatnding human language\"\n",
    "\n",
    "# tokenize the paragraph into sentence\n",
    "sentence = sent_tokenize(paragraph)\n",
    "\n",
    "#display the setence \n",
    "print(sentence)"
   ]
  },
  {
   "cell_type": "code",
   "execution_count": null,
   "id": "421ff1d3",
   "metadata": {},
   "outputs": [],
   "source": []
  },
  {
   "cell_type": "code",
   "execution_count": null,
   "id": "da270a4b",
   "metadata": {},
   "outputs": [],
   "source": []
  },
  {
   "cell_type": "markdown",
   "id": "f1b79d69",
   "metadata": {},
   "source": [
    "### Ques1: Paragraph = \"NLP is a brach of artificial intelligence. It involves analyzing and understanding text. Applications include translation and sentiment analysis.\" Use word and senetnce tokenizations."
   ]
  },
  {
   "cell_type": "code",
   "execution_count": 13,
   "id": "434e4143",
   "metadata": {},
   "outputs": [],
   "source": [
    "from nltk.tokenize import sent_tokenize, word_tokenize"
   ]
  },
  {
   "cell_type": "code",
   "execution_count": 19,
   "id": "1f0aca61",
   "metadata": {},
   "outputs": [],
   "source": [
    "para = \"\"\"NLP is a brach of artificial intelligence. \n",
    "It involves analyzing and understanding text. Applications include translation and sentiment analysis.\"\"\""
   ]
  },
  {
   "cell_type": "code",
   "execution_count": 23,
   "id": "aa78fcb9",
   "metadata": {},
   "outputs": [
    {
     "name": "stdout",
     "output_type": "stream",
     "text": [
      "['NLP is a brach of artificial intelligence.', 'It involves analyzing and understanding text.', 'Applications include translation and sentiment analysis.']\n"
     ]
    }
   ],
   "source": [
    "# tokenizing sentence\n",
    "sentence = sent_tokenize(para)\n",
    "print(sentence)"
   ]
  },
  {
   "cell_type": "code",
   "execution_count": 22,
   "id": "c9e5f93e",
   "metadata": {},
   "outputs": [
    {
     "name": "stdout",
     "output_type": "stream",
     "text": [
      "['NLP', 'is', 'a', 'brach', 'of', 'artificial', 'intelligence', '.', 'It', 'involves', 'analyzing', 'and', 'understanding', 'text', '.', 'Applications', 'include', 'translation', 'and', 'sentiment', 'analysis', '.']\n"
     ]
    }
   ],
   "source": [
    "# using word tokenize\n",
    "words = word_tokenize(para)\n",
    "print(words)"
   ]
  },
  {
   "cell_type": "code",
   "execution_count": null,
   "id": "58dee84e",
   "metadata": {},
   "outputs": [],
   "source": []
  },
  {
   "cell_type": "code",
   "execution_count": null,
   "id": "ac59aad8",
   "metadata": {},
   "outputs": [],
   "source": []
  },
  {
   "cell_type": "markdown",
   "id": "214de305",
   "metadata": {},
   "source": [
    "### Ques2: Paragraph = \"Machine learning is the subset of artificial intelligence. It allows computer to learn from data without being explicitly programmed\" Use word and senetnce tokenizations."
   ]
  },
  {
   "cell_type": "code",
   "execution_count": 28,
   "id": "51dc4d04",
   "metadata": {},
   "outputs": [],
   "source": [
    "# importing natural languate toolkit and word, sent_tokenize\n",
    "import nltk\n",
    "from nltk.tokenize import word_tokenize, sent_tokenize"
   ]
  },
  {
   "cell_type": "code",
   "execution_count": 24,
   "id": "11b4f0d7",
   "metadata": {},
   "outputs": [],
   "source": [
    "para = \"Machine learning is the subset of artificial intelligence. It allows computer to learn from data without being explicitly programmed\""
   ]
  },
  {
   "cell_type": "code",
   "execution_count": 26,
   "id": "6952a7e6",
   "metadata": {},
   "outputs": [
    {
     "name": "stdout",
     "output_type": "stream",
     "text": [
      "['NLP is a brach of artificial intelligence.', 'It involves analyzing and understanding text.', 'Applications include translation and sentiment analysis.']\n"
     ]
    }
   ],
   "source": [
    "# sentemce tokenize\n",
    "sentence = sent_tokenize(para)\n",
    "print(sentence)"
   ]
  },
  {
   "cell_type": "code",
   "execution_count": 27,
   "id": "33aeb090",
   "metadata": {},
   "outputs": [
    {
     "name": "stdout",
     "output_type": "stream",
     "text": [
      "['NLP', 'is', 'a', 'brach', 'of', 'artificial', 'intelligence', '.', 'It', 'involves', 'analyzing', 'and', 'understanding', 'text', '.', 'Applications', 'include', 'translation', 'and', 'sentiment', 'analysis', '.']\n"
     ]
    }
   ],
   "source": [
    "# word tokenize\n",
    "words = word_tokenize(para)\n",
    "print(words)"
   ]
  },
  {
   "cell_type": "code",
   "execution_count": null,
   "id": "b6f8d391",
   "metadata": {},
   "outputs": [],
   "source": []
  },
  {
   "cell_type": "code",
   "execution_count": null,
   "id": "5b4fe71f",
   "metadata": {},
   "outputs": [],
   "source": []
  },
  {
   "cell_type": "markdown",
   "id": "aeac8cd5",
   "metadata": {},
   "source": [
    "### Ques3: Paragraph = \"Data science involves ststistics, programming, and domain expertise. It helps to extract insights from data\" Use word and senetnce tokenizations."
   ]
  },
  {
   "cell_type": "code",
   "execution_count": 29,
   "id": "ace57e98",
   "metadata": {},
   "outputs": [],
   "source": [
    "para = \"Data science involves ststistics, programming, and domain expertise. It helps to extract insights from data.\""
   ]
  },
  {
   "cell_type": "code",
   "execution_count": 30,
   "id": "58b44922",
   "metadata": {},
   "outputs": [
    {
     "name": "stdout",
     "output_type": "stream",
     "text": [
      "['Data science involves ststistics, programming, and domain expertise.', 'It helps to extract insights from data.']\n"
     ]
    }
   ],
   "source": [
    "# sentence tokenize\n",
    "sentence = sent_tokenize(para)\n",
    "print(sentence)"
   ]
  },
  {
   "cell_type": "code",
   "execution_count": 31,
   "id": "b4a21e08",
   "metadata": {},
   "outputs": [
    {
     "name": "stdout",
     "output_type": "stream",
     "text": [
      "['Data', 'science', 'involves', 'ststistics', ',', 'programming', ',', 'and', 'domain', 'expertise', '.', 'It', 'helps', 'to', 'extract', 'insights', 'from', 'data', '.']\n"
     ]
    }
   ],
   "source": [
    "# word tokenize\n",
    "words = word_tokenize(para)\n",
    "print(words)"
   ]
  },
  {
   "cell_type": "code",
   "execution_count": null,
   "id": "0187e8cf",
   "metadata": {},
   "outputs": [],
   "source": []
  },
  {
   "cell_type": "code",
   "execution_count": null,
   "id": "e6c6f4d7",
   "metadata": {},
   "outputs": [],
   "source": []
  },
  {
   "cell_type": "markdown",
   "id": "763e0a40",
   "metadata": {},
   "source": [
    "### Ques4: Paragraph = \"Deep learning uses neural networks. These models mimic the human brain for complex tasks .\" Use word and senetnce tokenizations."
   ]
  },
  {
   "cell_type": "code",
   "execution_count": 32,
   "id": "186b2fb9",
   "metadata": {},
   "outputs": [],
   "source": [
    "para = \"Deep learning uses neural networks. These models mimic the human brain for complex tasks.\""
   ]
  },
  {
   "cell_type": "code",
   "execution_count": 33,
   "id": "99e207bb",
   "metadata": {},
   "outputs": [
    {
     "name": "stdout",
     "output_type": "stream",
     "text": [
      "['Deep learning uses neural networks.', 'These models mimic the human brain for complex tasks.']\n"
     ]
    }
   ],
   "source": [
    "# using sentence tokenization\n",
    "sentence = sent_tokenize(para)\n",
    "print(sentence)"
   ]
  },
  {
   "cell_type": "code",
   "execution_count": 34,
   "id": "7ca28b67",
   "metadata": {},
   "outputs": [
    {
     "name": "stdout",
     "output_type": "stream",
     "text": [
      "['Deep', 'learning', 'uses', 'neural', 'networks', '.', 'These', 'models', 'mimic', 'the', 'human', 'brain', 'for', 'complex', 'tasks', '.']\n"
     ]
    }
   ],
   "source": [
    "# Using word tokenization\n",
    "words = word_tokenize(para)\n",
    "print(words)"
   ]
  },
  {
   "cell_type": "code",
   "execution_count": null,
   "id": "7856b741",
   "metadata": {},
   "outputs": [],
   "source": []
  }
 ],
 "metadata": {
  "kernelspec": {
   "display_name": "Python 3 (ipykernel)",
   "language": "python",
   "name": "python3"
  },
  "language_info": {
   "codemirror_mode": {
    "name": "ipython",
    "version": 3
   },
   "file_extension": ".py",
   "mimetype": "text/x-python",
   "name": "python",
   "nbconvert_exporter": "python",
   "pygments_lexer": "ipython3",
   "version": "3.11.3"
  }
 },
 "nbformat": 4,
 "nbformat_minor": 5
}
