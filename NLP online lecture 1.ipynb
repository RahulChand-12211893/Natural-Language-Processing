{
 "cells": [
  {
   "cell_type": "markdown",
   "id": "c007e89f",
   "metadata": {},
   "source": [
    "### NLP :- It stands for natural language processing and it helps the computer or the programm to understant the human language the behaviour."
   ]
  },
  {
   "cell_type": "code",
   "execution_count": 1,
   "id": "b30c7311",
   "metadata": {},
   "outputs": [],
   "source": [
    "from nltk import word_tokenize, sent_tokenize"
   ]
  },
  {
   "cell_type": "markdown",
   "id": "4d0f3a68",
   "metadata": {},
   "source": [
    "#### Tokenization:- Tokenization is a process that replaces sensitive data with a non-sensitive substitute, or token."
   ]
  },
  {
   "cell_type": "code",
   "execution_count": 3,
   "id": "14ed9c9d",
   "metadata": {},
   "outputs": [
    {
     "name": "stdout",
     "output_type": "stream",
     "text": [
      "['The !', 'class of NLP is very borring right now']\n"
     ]
    }
   ],
   "source": [
    "text = (\"The ! class of NLP is very borring right now\")\n",
    "sentence = sent_tokenize(text)\n",
    "print(sentence)"
   ]
  },
  {
   "cell_type": "code",
   "execution_count": 4,
   "id": "8239b779",
   "metadata": {},
   "outputs": [
    {
     "name": "stdout",
     "output_type": "stream",
     "text": [
      "['The', '!', 'class', 'of', 'NLP', 'is', 'very', 'borring', 'right', 'now']\n"
     ]
    }
   ],
   "source": [
    "# Now doing word_tokenize\n",
    "words = word_tokenize(text)\n",
    "print(words)"
   ]
  },
  {
   "cell_type": "markdown",
   "id": "ecceaf2a",
   "metadata": {},
   "source": [
    "### Regular expressions (Regex)\n"
   ]
  },
  {
   "cell_type": "code",
   "execution_count": 5,
   "id": "8dd00318",
   "metadata": {},
   "outputs": [
    {
     "name": "stdout",
     "output_type": "stream",
     "text": [
      "Shortlisted candidates:\n",
      " \n"
     ]
    }
   ],
   "source": [
    "import re\n",
    "text = \"\"\" Dear support, I need help with my orders. Please conatct me at user123@gmail.com. Alternatively, reach out to\n",
    "\"\"\"\n",
    "\n",
    "# Regex pattern for maching 'python' or 'ML'\n",
    "pattern = r'Python|Machine language'\n",
    "\n",
    "#Finding matches\n",
    "shortlisted = [line for line in text.split(\"\\n\") if re.search(pattern, line, re.IGNORECASE)]\n",
    "print(\"Shortlisted candidates:\\n\", \"\\n\".join(shortlisted))"
   ]
  },
  {
   "cell_type": "code",
   "execution_count": null,
   "id": "86a6adb0",
   "metadata": {},
   "outputs": [],
   "source": []
  }
 ],
 "metadata": {
  "kernelspec": {
   "display_name": "Python 3 (ipykernel)",
   "language": "python",
   "name": "python3"
  },
  "language_info": {
   "codemirror_mode": {
    "name": "ipython",
    "version": 3
   },
   "file_extension": ".py",
   "mimetype": "text/x-python",
   "name": "python",
   "nbconvert_exporter": "python",
   "pygments_lexer": "ipython3",
   "version": "3.11.3"
  }
 },
 "nbformat": 4,
 "nbformat_minor": 5
}
